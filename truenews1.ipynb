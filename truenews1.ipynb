{
 "cells": [
  {
   "cell_type": "code",
   "execution_count": 182,
   "id": "f64d258b",
   "metadata": {},
   "outputs": [],
   "source": [
    "from time import sleep\n",
    "from selenium import webdriver\n",
    "from selenium.webdriver.chrome.options import Options\n",
    "from selenium.common.exceptions import NoSuchElementException"
   ]
  },
  {
   "cell_type": "code",
   "execution_count": 183,
   "id": "4b80ce7b",
   "metadata": {},
   "outputs": [],
   "source": [
    "chrome_options = Options()\n",
    "chrome_options.add_argument(\"C:/Users/PcPack/chromedriver.exe\")"
   ]
  },
  {
   "cell_type": "code",
   "execution_count": 184,
   "id": "adde2075",
   "metadata": {},
   "outputs": [],
   "source": [
    "driver = webdriver.Chrome(options=chrome_options)\n",
    "driver.set_window_size(1750, 800)"
   ]
  },
  {
   "cell_type": "code",
   "execution_count": 185,
   "id": "bf69a12a",
   "metadata": {},
   "outputs": [],
   "source": [
    "driver.get(\"https://apnews.com/religion\")"
   ]
  },
  {
   "cell_type": "code",
   "execution_count": 186,
   "id": "420eb766",
   "metadata": {},
   "outputs": [],
   "source": [
    "from selenium.webdriver.common.by import By\n",
    "elements = driver.find_elements(By.XPATH, '//h3[@class=\"PagePromo-title\"]')"
   ]
  },
  {
   "cell_type": "code",
   "execution_count": 187,
   "id": "076b641f",
   "metadata": {},
   "outputs": [
    {
     "name": "stdout",
     "output_type": "stream",
     "text": [
      "Titres d'articles: ['Woman who says she was abused spiritually and sexually by a once-famous Jesuit demands transparency', 'Churches and nonprofits ensnared in Georgia push to restrict bail funds', 'Southern Baptists oust one church for having woman pastor, two others over sexual-abuse policy', 'The suspects in a Kenyan doomsday cult are ordered to be hospitalized after a hunger strike', 'The Vatican’s problematic process to address clergy sex abuse cases, explained', 'European diplomats have condemned the closed-door trial of a Catholic activist in Belarus', 'For Black ‘nones’ who leave religion, what’s next?', 'Here’s why many Argentinians are devoted to a first lady who died in 1952', 'Ever wonder what’s in the Vatican secret archives? The priest who runs it offers the following', 'New York Archdiocese denounces transgender activist’s funeral held at St. Patrick’s Cathedral', 'Houston megachurch holds healing and thanksgiving service a week after deadly shooting', 'What does it mean to claim the US is a Christian nation, and what does the Constitution say?', 'Many believe the founders wanted a Christian America. Some want the government to declare one now', 'Greece just legalized same-sex marriage. Will other Orthodox countries join them any time soon?', 'Q&A: Vince Staples redirects offbeat impulses from familiar territory of rap to new Netflix series', 'Man charged with setting fires at predominantly Black church in Rhode Island', 'Catholic bishops in Mexico say they negotiated for possible peace accord with drug cartel leaders', 'Israel complains after Vatican denounces ‘carnage’ and disproportionate response in Gaza', 'Greece becomes first Orthodox Christian country to legalize same-sex civil marriage', '‘Our gods were locked in the basement.’ Now Nepal is pursuing sacred items once smuggled abroad', 'Every week is World Interfaith Harmony Week for devotees of Swami Vivekananda', 'Here’s the latest on the investigation into the shooting at Joel Osteen’s megachurch', 'Indian Prime Minister Narendra Modi opens stone-built Hindu temple in UAE ahead of India’s elections', 'Greek lawmakers are debating a landmark bill to legalize same-sex marriage. Here’s what it means', 'How did the Texas megachurch shooter buy a rifle despite her mental illness and criminal history?', 'In this centuries-old English pancake race, ‘you just have to go flat out’', 'US Virgin Islands pushes forward on stalled law allowing recreational marijuana use', 'Notre Dame cathedral’s spire revealed in Paris as reconstruction continues after fire', 'Antisemitism and safety fears surge among US Jews, survey finds', 'Ash Wednesday and Valentine’s Day fall on the same day this year. Here’s what you need to know', 'New Orleans, Rio, Cologne — Carnival joy peaks around the world as Lent approaches', 'On Super Bowl broadcast, ‘He Gets Us’ ads featuring Jesus stand out for change-of-pace message', 'Shooting puts new spotlight on Joel Osteen, one of the most familiar faces in American religion', 'Shooter entered Texas megachurch with young son and used AR-style rifle in the attack, police say', 'A shooter opened fire in a Houston church. Gunfire has also scarred other Texas places of worship']\n"
     ]
    }
   ],
   "source": [
    "titles = [element.text for element in elements]\n",
    "print(\"Titres d'articles:\", titles)"
   ]
  },
  {
   "cell_type": "code",
   "execution_count": 188,
   "id": "31a4bd26",
   "metadata": {},
   "outputs": [
    {
     "name": "stdout",
     "output_type": "stream",
     "text": [
      "Textes de tous les articles: ['ROME (AP) — One of the first women who accused a once-exalted Jesuit artist of spiritual, psychological and sexual abuse went public Wednesday to demand transparency from the Vatican and a full accounting of the hierarchs who covered for him for 30 years.\\nGloria Branciani, 59, appeared at a news conference with one of the most prominent Vatican-accredited lawyers in Rome, Laura Sgro, to tell her story in public for the first time. She detailed the alleged abuses of the Rev. Marko Rupnik, including his fondness for three-way sex “in the image of the Trinity” which, if confirmed, could constitute a grave perversion of Catholic doctrine known as false mysticism.\\nRupnik has not commented publicly about the allegations, but his Rome art studio has said the allegations were unproven and media reports about the case a defamatory “lynching.”', 'ATLANTA (AP) — When she was behind bars in Georgia, Nia Thomas would use toothpaste to stick handwritten flyers to the wall and spread the word about community bail funds that could pay inmates’ bonds, no strings attached.\\n“I was posting the phone numbers in everybody’s rooms, everybody’s dorms, every jail I went to,” Thomas said.\\nBut wide-scale initiatives like the one that paid $50,000 for her pretrial release on drug trafficking charges in May 2022 could be significantly restricted, if not criminalized, under a Georgia bill awaiting Republican Gov. Brian Kemp’s signature. Opponents have called the measure an unprecedented attack on bail funds, churches and other community organizations that post inmates’ bonds as they await trial.', 'The Southern Baptist Convention’s top administrative body voted Tuesday to oust four congregations — one for having a woman as senior minister, two for what it said were failures related to the denomination’s sexual-abuse policy and one for lack of financial participation.\\nThe SBC’s Executive Committee announced the decision after a closed-door session at the end of its two-day meeting in Nashville. These are the latest in a series of expulsions in recent years, most notably when it ousted one of its largest, California’s Saddleback Church, and a Louisville, Kentucky congregation for having women in ministry leadership roles.\\nOn Tuesday, the committee ousted Immanuel Baptist Church of Paducah, Kentucky, whose senior minister is a woman. The SBC’s official statement of faith says the office of pastor is open only to men.', 'NAIROBI, Kenya (AP) — A Kenyan magistrate Tuesday ordered the main suspect in a doomsday starvation cult and 94 of his followers to receive emergency care after some of the suspects had to be carried into the courtroom to answer manslaughter charges, too frail and weak to “even open their eyes” after an apparent hunger strike\\nAt the law courts in the coastal town of Mombasa, Chief Magistrate Alex Ithuku directed Paul Mackenzie, his wife Rhoda Maweu and others charged with 238 counts of manslaughter to be escorted to hospital for an immediate doctors’ examination.\\nThe visibly emaciated suspects pleaded not guilty on all counts, which were read out over four and half hours.', 'VATICAN CITY (AP) — One afternoon in mid-December, Pope Francis had a meeting that wasn’t on his official agenda or otherwise recorded, that underscored the utter dysfunction of the Catholic Church’s response to the global clergy sex abuse scandal.\\nIn the main reception room of the Vatican hotel where he lives, Francis met for more than an hour with a Spaniard who as a young seminarian was molested by his spiritual director. The former seminarian was desperate.\\nHe had lodged a complaint with the Toledo, Spain Archdiocese in 2009, and visited Vatican offices multiple times to deposit damning documents and demand action be taken against his abuser and the bishops who allegedly covered for him. But for 15 years, he had received no justice from the church.', 'BUENOS AIRES, Argentina (AP) — Early every morning, just as she reaches her workplace at a labor union in Buenos Aires, Ángeles Celerier heads to the chapel and prays to Saint Cajetan, Saint Teresa and Eva Perón.\\nPerón — unlike the others — has not been canonized by the Vatican, but this doesn’t matter to Celerier.\\n“For me, she is the saint of the people,” the 56-year-old Argentine said.', 'VATICAN CITY (AP) — The Vatican has been trying for years to debunk the idea that its vaunted secret archives are all that secret: It has opened up the files of controversial World War II-era Pope Pius XII to scholars and changed the official name to remove the word “Secret” from its title.\\nBut a certain aura of myth and mystery has persisted — until now.\\nThe longtime prefect of what is now named the Vatican Apostolic Archive, Archbishop Sergio Pagano, is spilling the beans for the first time, revealing some of the secrets he has uncovered in the 45 years he has worked in one of the world’s most important, and unusual, repositories of documents.', 'The funeral of a renowned transgender activist in a New York cathedral elicited a denunciation of the event by a senior church official, who called the Mass a scandal within one of the preeminent houses of worship in U.S. Catholicism.\\nThe Roman Catholic Archdiocese of New York condemned the funeral of Cecilia Gentili, which was held in St. Patrick’s Cathedral in Manhattan and drew a large audience on Thursday.\\nGentili was known as a leading advocate for other transgender people, as well as sex workers and people with HIV. A post on her Instagram account announced her death on Feb. 6 at age 52.', 'HOUSTON (AP) — Celebrity pastor Joel Osteen’s Houston megachurch held a special service Sunday dedicated to healing and thanksgiving a week after a woman opened fire in one of its hallways before being gunned down by security officers.\\nOsteen’s Lakewood Church has not had services since the Feb. 11 shooting that sent worshippers scrambling for safety. On Sunday, Osteen, his wife Victoria Osteen and members of the church staff who lead Lakewood’s Spanish ministry sat in chairs on the stage and spoke about the shooting, how it has impacted Lakewood’s community and how the church was moving forward.\\nOsteen told parishioners it has been a difficult time with “a lot of trauma.”', 'Many Americans believe the United States was founded as a Christian nation, and the idea is energizing some conservative and Republican activists. But the concept means different things to different people, and historians say that while the issue is complex, the founding documents prioritize religious freedom and do not create a Christian nation.\\nNo.\\n“(N)o religious Test shall ever be required as a Qualification to any Office or public Trust under the United States.” (Article VI)', 'The U.S. Constitution doesn’t mention Christianity or any specific religion. The Declaration of Independence famously proclaims that people’s rights come from a “Creator” and “Nature’s God” — but doesn’t specify who that is.\\nYet large numbers of Americans believe the founders intended the U.S. to be a Christian nation, and many believe it should be one.\\nSuch views are especially strong among Republicans and their white evangelical base. Already such views are being voiced by supporters of Donald Trump amid his bid to recapture the presidency.', 'Greece has become the first majority-Orthodox Christian nation to legalize same-sex marriage under civil law. At least for the near future, it will almost certainly be the only one.\\nEastern Orthodox leadership, despite lacking a single doctrinal authority like a pope, has been united in opposing recognition of same-sex relationships both within its own rites and in the civil realm. Public opinion in majority Orthodox countries has mostly been opposed, too.\\nBut there are some signs of change. Two small majority-Orthodox countries, Montenegro and Cyprus, have authorized same-sex unions in recent years, as did Greece in 2015 before upgrading to this week’s approval of full marital status.', 'LOS ANGELES (AP) — Although Vince Staples has been in the limelight for more than a decade, he still thinks fame is a weird thing.\\nAnd while the Southern California rapper isn’t necessarily concerned with “making the best thing” or reaping critical praise, he’s willing to endure the publicity machine if it means he can continue to find creative fulfillment through whatever art form calls to him.\\nThat’s what propelled the 30-year-old to make his first foray into filmmaking with “The Vince Staples Show,” a kind of autobiographical, genre-bending, dark comedy series, hitting Netflix on Thursday.', 'MEXICO CITY (AP) — Four Roman Catholic bishops met with Mexican drug cartel bosses in a bid to negotiate a possible peace accord, one of the bishops said, and President Andrés Manuel López Obrador said Thursday he approves of such talks.\\nThe revelation by Bishop of Chilpancingo-Chilapa, José de Jesús González Hernández, in remarks at a public appearance, illustrate the extent to which the government’s policy of not confronting the cartels has left average citizens to work out their own separate peace deals with the gangs.\\nLópez Obrador acknowledged it wasn’t the first time church leaders had held such talks, and that they have done so before in the neighboring state of Michoacan and in other states.', 'ROME (AP) — Israel has formally complained after a senior Vatican official spoke of “carnage” in Gaza and what he termed a disproportionate Israeli military operation following the Oct. 7 Hamas attacks.\\nThe Israeli Embassy to the Holy See called the comments by Cardinal Pietro Parolin, the Vatican secretary of state, “regrettable.” In a statement Wednesday, the embassy said Parolin hadn’t considered what it called the relevant facts in judging the legitimacy of Israel’s actions.\\nSpeaking Tuesday at a reception, Parolin condemned the Oct. 7 Hamas attacks against Israel and all forms of antisemitism. But he questioned Israel’s claim to be acting in self-defense by inflicting “carnage” on Gaza.', \"ATHENS, Greece (AP) — Greece on Thursday became the first Orthodox Christian country to legalize same-sex civil marriage, despite opposition from the influential, socially conservative Greek Church.\\nA cross-party majority of 176 lawmakers in the 300-seat parliament voted late Thursday in favor of the landmark bill drafted by Prime Minister Kyriakos Mitsotakis ' center-right government. Another 76 rejected the reform while two abstained from the vote and 46 were not present in the house.\\nMitsotakis tweeted after the vote that Greece “is proud to become the 16th (European Union) country to legislate marriage equality.”\", 'KATHMANDU, Nepal (AP) — Nepal’s gods and goddess are returning home.\\nAn unknown number of sacred statues of Hindu deities were stolen and smuggled abroad in the past. Now dozens are being repatriated to the Himalayan nation, part of a growing global effort to return such items to countries in Asia, Africa and elsewhere.\\nLast month, four idols and masks of Hindu gods were returned to Nepal from the United States by museums and a private collector.', 'NEW YORK (RNS) — At a Sunday morning service on Sunday (Feb. 4), a priest gave a sermon, a choir sang devotional hymns and a congregation bowed heads in a joint prayer.\\nIt was a typical Sunday for these faithful New Yorkers. Yet rather than a church, this service took place at a spiritual home meant for believers under any name, from Christians to Hindus to self-professed “truth-seekers.”\\nThe Ramakrishna-Vivekananda Center of New York, built for the revered Indian monastic who brought the interfaith teachings of Vedantic Hinduism to America and his guru, is the gathering place for devotees of his philosophy, which accepts every faith as a “valid means for its own followers to realize the Truth.”', 'HOUSTON (AP) — Nearly a week after a woman opened fire at celebrity pastor Joel Osteen’s Texas megachurch, there are still questions about a motive behind the attack and scrutiny on how a person with a record of criminal misdemeanors and a history of mental illness was able to obtain her weapons.\\nPolice said Genesse Moreno used a legally purchased AR-style rifle in the Feb. 11 attack that also left her 7-year-old son and a man at the Houston church seriously wounded. The attack ended when she was gunned down by security.\\nLaw enforcement and church officials were relieved the number of dead and wounded was not significantly higher. The shooting happened in a hallway just before the start of a service and never reached the main sanctuary.', 'ABU MUREIKHA, United Arab Emirates (AP) — Indian Prime Minister Narendra Modi visited the Middle East’s first traditional stone-built Hindu temple on Wednesday, internationalizing both his reelection campaign and his effort to push secular India into a Hindu state.\\nThe trip to the BAPS Hindu Mandir just north of the city of Abu Dhabi capped Modi’s whistlestop tour of the United Arab Emirates during which the Indian leader embraced the UAE’s president, describing him as a brother and also spoke before a global leaders at a Dubai summit.\\nModi is widely expected to win a third term as prime minister in the upcoming elections in India, the world’s largest democracy. But Modi’s policies and his governing Bharatiya Janata Party have raised concerns over India’s future, particularly for members of its Muslim minority as they have come under attack in recent years by Hindu nationalist groups.', 'ATHENS, Greece (AP) — Lawmakers in Greece opened a two-day debate Wednesday on a landmark bill to legalize same-sex marriage. It would be the first Orthodox Christian country to do so.\\nThe Valentine’s Day session in parliament follows vocal opposition and protests from the church but also a shift in public opinion which is narrowly supportive of the change.\\nLawmaker Maria Syrengela with the governing New Democracy party called the bill “a small contribution towards the creation of a society without discrimination” during the debate Wednesday.', 'HOUSTON (AP) — The shooter who opened fire at a Houston megachurch before being gunned down by security officers used an AR-style rifle that police say she legally purchased despite a years-long criminal record, a history of mental illness and allegations she threatened to shoot her ex-husband.\\nKey questions remained Tuesday about Genesse Moreno’s motive in the shooting, and police have given no details about where and how she obtained the rifle in December. The shooting joins others in Texas and elsewhere that have involved shooters who legally obtained guns despite criminal history and mental health problems.\\nAuthorities say Moreno, 36, entered celebrity pastor Joel Osteen’s Lakewood Church on Sunday with her 7-year-old son and began firing in a hallway, sending worshippers scrambling for safety. Moreno did not reach the main sanctuary and was killed after exchanging gunfire with two off-duty officers.', 'OLNEY, England (AP) — Women in matching checkered aprons, headscarves and a rainbow of running shoes limbered up Tuesday as they prepared for the centuries-old pancake race in this English country town.\\nThey rolled their shoulders in unison, raised up on their toes and did squats before stepping to the starting line — frying pans in hand.\\nAt the word “Go” they sprinted through the streets, trying not to drop their pancakes as they roughly traced the path taken by a harried housewife in 1445, who legend has it heard the church bells signaling the Shrove Tuesday service and raced off with her skillet.', 'SAN JUAN, Puerto Rico (AP) — A stalled marijuana law in the U.S. Virgin Islands got a big push Tuesday after an advisory board approved a list of proposed rules and regulations that would govern the recreational use of cannabis in the territory.\\nThe board’s vote represented a key step toward implementing a law approved more than a year ago to allow the recreational use on the three islands. A 30-day public comment period on the proposed regulations and rules is scheduled to start soon.\\n“We have been waiting a very long time for this,” Dr. Catherine Kean, the advisory board’s chairperson, said.', 'PARIS (AP) — Scaffolding that shrouded the top of Notre Dame cathedral following a devastating fire in April 2019 is being removed, marking a milestone in its reconstruction.\\nAs the shell at the summit has been taken down in recent days, it has revealed the cathedral’s new spire for the first time, adorned with a golden rooster and cross, offering a glimpse of the building’s expected appearance upon completion.\\nA resident near the cathedral, Frederico Benani, who witnessed the 2019 blaze, felt emotional Tuesday at seeing the spire once more.', 'Nearly two-thirds of American Jews feel less secure in the U.S. than they did a year ago, according to a new national survey.\\nThe American Jewish Committee, a prominent advocacy organization, conducted the survey last fall just as the Israel-Hamas war began on Oct. 7. The number of American Jews who say they feel less secure in the U.S. jumped 22% from last year’s survey.\\n“This year’s study shows us very clearly that antisemitism that was really just a simmering flame is now, especially since Oct. 7, a five-alarm fire,” Ted Deutch, CEO of AJC, told The Associated Press.', 'Feb. 14 is a holiday heavyweight this year due to a calendar collision of events.\\nYes, it’s Valentine’s Day, the fixed annual celebration of love and friendship, marked by cute couples, eager elementary school students — and critics who deride its commercialization. But it also happens to be Ash Wednesday, the solemn day of fasting and reflection that signals the start of Christianity’s most penitent season.\\nAsh Wednesday is not a fixed date. Its timing is tied to Easter Sunday, and for most Christians, Easter will fall on March 31 this year.', 'Parades, music, dancing in the streets — joyous Carnival celebrations marking the final days of revelry before Lent are peaking in New Orleans, Rio de Janeiro and other locales in the Americas and Europe.\\nEach city has its unique Carnival customs but the similarities are inescapable. Dancers in feathered headdresses gyrated and strutted in parades featuring lavish floats with giant figures of Greek gods or pop stars. Costumes abounded and the themes of the various festivities ran from whimsical to satirical.\\nShoulder-to-shoulder crowds savored the music and rhythms around a music truck in Salvador or outside Bourbon Street nightclubs in New Orleans.', 'For the second year in a row, a religious Super Bowl ad campaign promised viewers that Jesus “gets us.”\\nTwo commercials shown Sunday night centered Jesus’ message to love your neighbors — even across ideological divides. In one, people of different races, classes and gender expressions have their feet washed, including a woman outside a family planning clinic.\\n“Our goal is to really show that Jesus loved and cared for anyone and everyone,” He Gets Us campaign spokesperson Greg Miller told The Associated Press on Monday. He said the campaign’s website received 715,000 views in the previous 24 hours.', 'Joel Osteen is one of the most familiar faces in American religion.\\nThe pastor who leads the Houston megachurch where a 5-year-old boy was critically wounded in a Sunday shooting that also hit a man in the hip — before the shooter was killed by off-duty police working security — is known for his megawatt smile, wavy hair and widely popular brand of Christianity.\\nThe 60-year-old regularly preaches to about 45,000 people a week in a former basketball arena and he’s known to millions more through his television sermons.', 'HOUSTON (AP) — The shooter at a Texas megachurch had a history of mental illness and brought their young son to the attack that was carried out using an AR-style rifle and ended in an exchange of gunfire with two off-duty officers, authorities said Monday.\\nHouston police identified the shooter as Genesse Ivonne Moreno, 36, who they say wore a trenchcoat and carried a backpack Sunday upon entering Lakewood Church, which is led by the pastor Joel Osteen. Moreno used both male and female aliases, but investigators who looked at past police reports found that Moreno identified as female, Houston Police Commander Chris Hassig said.\\nThe attack happened between services at the Houston megachurch — in a former NBA arena — and sent worshippers scrambling for safety.', 'AUSTIN, Texas (AP) — The weekend shooting at Joel Osteen’s megachurch in Houston is not the first time gunfire has caused panic and tragedy at a Texas house of worship.\\nIt also underscored the ease of bringing weapons into sanctuaries in a state with few limits on gun possession, as well as a growing effort by some churches to provide armed security, either through volunteers or paid off-duty officers.\\nThe shooting Sunday at Lakewood Church ended when two off-duty officers, who were working security, returned fire on a shooter who police say entered the building with an AR-style rifle and a backpack.']\n",
      "la date des artilcles: ['Updated 7:20 PM GMT+1, February 21, 2024', 'Updated 4:57 PM GMT+1, February 21, 2024', 'Updated 2:59 AM GMT+1, February 21, 2024', 'Updated 6:46 PM GMT+1, February 20, 2024', 'Updated 3:04 PM GMT+1, February 20, 2024', 'Updated 10:04 PM GMT+1, February 19, 2024', 'Updated 10:03 AM GMT+1, February 19, 2024', 'Updated 6:33 PM GMT+1, February 20, 2024', 'Updated 11:27 PM GMT+1, February 18, 2024', 'Updated 2:03 PM GMT+1, February 17, 2024', 'Updated 2:00 PM GMT+1, February 17, 2024', 'Updated 2:44 PM GMT+1, February 16, 2024', 'Updated 10:49 PM GMT+1, February 15, 2024', 'Updated 7:57 AM GMT+1, February 16, 2024', 'Updated 5:57 PM GMT+1, February 15, 2024', 'Updated 4:32 AM GMT+1, February 16, 2024', 'Updated 9:21 AM GMT+1, February 15, 2024', 'Updated 9:51 PM GMT+1, February 20, 2024', 'Updated 6:29 AM GMT+1, February 17, 2024', 'Updated 1:36 AM GMT+1, February 15, 2024', 'Updated 4:18 PM GMT+1, February 14, 2024', 'Updated 1:04 AM GMT+1, February 14, 2024', 'Updated 11:13 AM GMT+1, February 14, 2024', 'Updated 6:21 PM GMT+1, February 13, 2024', 'Updated 6:50 PM GMT+1, February 13, 2024', 'Updated 9:28 PM GMT+1, February 13, 2024', 'Updated 7:29 AM GMT+1, February 14, 2024', 'Updated 1:18 AM GMT+1, February 13, 2024', 'Updated 3:58 AM GMT+1, February 13, 2024', 'Updated 2:05 AM GMT+1, February 13, 2024', 'Updated 4:04 PM GMT+1, February 13, 2024', 'Updated 1:31 AM GMT+1, February 13, 2024']\n"
     ]
    }
   ],
   "source": [
    "article_links = driver.find_elements(By.XPATH, '//a[@class=\"Link\"]')\n",
    "article_urls = [link.get_attribute('href') for link in article_links]\n",
    "article_text = []  \n",
    "updated_dates=[]\n",
    "\n",
    "for url in article_urls:\n",
    "    driver.get(url)\n",
    "    try:\n",
    "        article_element = driver.find_element(By.XPATH, '//div[@class=\"RichTextStoryBody RichTextBody\"]')\n",
    "        text1 = article_element.find_element(By.XPATH,'./p[1]').text\n",
    "        text2 = article_element.find_element(By.XPATH,'./p[2]').text\n",
    "        text3 = article_element.find_element(By.XPATH,'./p[3]').text\n",
    "        # Concaténer les trois textes dans le même paragraphe\n",
    "        article_paragraph = f\"{text1}\\n{text2}\\n{text3}\"\n",
    "        article_text.append(article_paragraph)  \n",
    "        \n",
    "        #print(\"Texte de l'article:\", text1, text2, text3)\n",
    "        date_elements = driver.find_elements(By.XPATH, '//span[@data-date]')\n",
    "        for date_element in date_elements:\n",
    "            updated_date = date_element.text\n",
    "            updated_dates.append(updated_date)\n",
    "    except NoSuchElementException:\n",
    "        print(\"L'élément de l'article n'a pas été trouvé sur cette page.\")\n",
    "\n",
    "# Imprimer la liste complète des textes d'articles une fois que la boucle est terminée\n",
    "print(\"Textes de tous les articles:\", article_text)\n",
    "print(\"la date des artilcles:\", updated_dates)\n"
   ]
  },
  {
   "cell_type": "code",
   "execution_count": 189,
   "id": "4d25bc06",
   "metadata": {},
   "outputs": [
    {
     "name": "stdout",
     "output_type": "stream",
     "text": [
      "Les résultats ont été écrits dans le fichier resultats_articles.csv.\n"
     ]
    }
   ],
   "source": [
    "import csv\n",
    "with open('resultats_articles32.csv', mode='w', newline='', encoding='utf-8') as file:\n",
    "    writer = csv.writer(file)\n",
    "    \n",
    "    # Écrire les en-têtes\n",
    "    writer.writerow(['Title','Texte de l\\'article', 'Date mise à jour'])\n",
    "    \n",
    "    # Écrire les données\n",
    "    for title,article_text, updated_date in zip(titles,article_text, updated_dates):\n",
    "        writer.writerow([title,article_text, updated_date])\n",
    "\n",
    "print(\"Les résultats ont été écrits dans le fichier resultats_articles.csv.\")"
   ]
  },
  {
   "cell_type": "code",
   "execution_count": null,
   "id": "4f9af77a",
   "metadata": {},
   "outputs": [],
   "source": []
  },
  {
   "cell_type": "code",
   "execution_count": null,
   "id": "3df98d08",
   "metadata": {},
   "outputs": [],
   "source": []
  }
 ],
 "metadata": {
  "kernelspec": {
   "display_name": "Python 3 (ipykernel)",
   "language": "python",
   "name": "python3"
  },
  "language_info": {
   "codemirror_mode": {
    "name": "ipython",
    "version": 3
   },
   "file_extension": ".py",
   "mimetype": "text/x-python",
   "name": "python",
   "nbconvert_exporter": "python",
   "pygments_lexer": "ipython3",
   "version": "3.10.7"
  }
 },
 "nbformat": 4,
 "nbformat_minor": 5
}
